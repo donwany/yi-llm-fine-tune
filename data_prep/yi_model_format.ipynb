{
  "cells": [
    {
      "cell_type": "code",
      "execution_count": 1,
      "metadata": {
        "colab": {
          "base_uri": "https://localhost:8080/"
        },
        "id": "UHmVHmd9mjmu",
        "outputId": "1437c0e9-0b87-4041-ef5e-c52b8956ea46"
      },
      "outputs": [
        {
          "name": "stdout",
          "output_type": "stream",
          "text": [
            "Requirement already satisfied: datasets in /Users/tsiameh/anaconda3/lib/python3.11/site-packages (2.14.6)\n",
            "Requirement already satisfied: numpy>=1.17 in /Users/tsiameh/anaconda3/lib/python3.11/site-packages (from datasets) (1.25.2)\n",
            "Requirement already satisfied: pyarrow>=8.0.0 in /Users/tsiameh/anaconda3/lib/python3.11/site-packages (from datasets) (11.0.0)\n",
            "Requirement already satisfied: dill<0.3.8,>=0.3.0 in /Users/tsiameh/anaconda3/lib/python3.11/site-packages (from datasets) (0.3.7)\n",
            "Requirement already satisfied: pandas in /Users/tsiameh/anaconda3/lib/python3.11/site-packages (from datasets) (2.1.2)\n",
            "Requirement already satisfied: requests>=2.19.0 in /Users/tsiameh/anaconda3/lib/python3.11/site-packages (from datasets) (2.31.0)\n",
            "Requirement already satisfied: tqdm>=4.62.1 in /Users/tsiameh/anaconda3/lib/python3.11/site-packages (from datasets) (4.66.1)\n",
            "Requirement already satisfied: xxhash in /Users/tsiameh/anaconda3/lib/python3.11/site-packages (from datasets) (3.4.1)\n",
            "Requirement already satisfied: multiprocess in /Users/tsiameh/anaconda3/lib/python3.11/site-packages (from datasets) (0.70.15)\n",
            "Requirement already satisfied: fsspec[http]<=2023.10.0,>=2023.1.0 in /Users/tsiameh/anaconda3/lib/python3.11/site-packages (from datasets) (2023.3.0)\n",
            "Requirement already satisfied: aiohttp in /Users/tsiameh/anaconda3/lib/python3.11/site-packages (from datasets) (3.8.3)\n",
            "Requirement already satisfied: huggingface-hub<1.0.0,>=0.14.0 in /Users/tsiameh/anaconda3/lib/python3.11/site-packages (from datasets) (0.17.3)\n",
            "Requirement already satisfied: packaging in /Users/tsiameh/anaconda3/lib/python3.11/site-packages (from datasets) (23.0)\n",
            "Requirement already satisfied: pyyaml>=5.1 in /Users/tsiameh/anaconda3/lib/python3.11/site-packages (from datasets) (6.0)\n",
            "Requirement already satisfied: attrs>=17.3.0 in /Users/tsiameh/anaconda3/lib/python3.11/site-packages (from aiohttp->datasets) (23.1.0)\n",
            "Requirement already satisfied: charset-normalizer<3.0,>=2.0 in /Users/tsiameh/anaconda3/lib/python3.11/site-packages (from aiohttp->datasets) (2.0.4)\n",
            "Requirement already satisfied: multidict<7.0,>=4.5 in /Users/tsiameh/anaconda3/lib/python3.11/site-packages (from aiohttp->datasets) (6.0.2)\n",
            "Requirement already satisfied: async-timeout<5.0,>=4.0.0a3 in /Users/tsiameh/anaconda3/lib/python3.11/site-packages (from aiohttp->datasets) (4.0.2)\n",
            "Requirement already satisfied: yarl<2.0,>=1.0 in /Users/tsiameh/anaconda3/lib/python3.11/site-packages (from aiohttp->datasets) (1.8.1)\n",
            "Requirement already satisfied: frozenlist>=1.1.1 in /Users/tsiameh/anaconda3/lib/python3.11/site-packages (from aiohttp->datasets) (1.3.3)\n",
            "Requirement already satisfied: aiosignal>=1.1.2 in /Users/tsiameh/anaconda3/lib/python3.11/site-packages (from aiohttp->datasets) (1.2.0)\n",
            "Requirement already satisfied: filelock in /Users/tsiameh/anaconda3/lib/python3.11/site-packages (from huggingface-hub<1.0.0,>=0.14.0->datasets) (3.9.0)\n",
            "Requirement already satisfied: typing-extensions>=3.7.4.3 in /Users/tsiameh/anaconda3/lib/python3.11/site-packages (from huggingface-hub<1.0.0,>=0.14.0->datasets) (4.8.0)\n",
            "Requirement already satisfied: idna<4,>=2.5 in /Users/tsiameh/anaconda3/lib/python3.11/site-packages (from requests>=2.19.0->datasets) (3.4)\n",
            "Requirement already satisfied: urllib3<3,>=1.21.1 in /Users/tsiameh/anaconda3/lib/python3.11/site-packages (from requests>=2.19.0->datasets) (1.26.16)\n",
            "Requirement already satisfied: certifi>=2017.4.17 in /Users/tsiameh/anaconda3/lib/python3.11/site-packages (from requests>=2.19.0->datasets) (2023.7.22)\n",
            "Requirement already satisfied: python-dateutil>=2.8.2 in /Users/tsiameh/anaconda3/lib/python3.11/site-packages (from pandas->datasets) (2.8.2)\n",
            "Requirement already satisfied: pytz>=2020.1 in /Users/tsiameh/anaconda3/lib/python3.11/site-packages (from pandas->datasets) (2022.7)\n",
            "Requirement already satisfied: tzdata>=2022.1 in /Users/tsiameh/anaconda3/lib/python3.11/site-packages (from pandas->datasets) (2023.3)\n",
            "Requirement already satisfied: six>=1.5 in /Users/tsiameh/anaconda3/lib/python3.11/site-packages (from python-dateutil>=2.8.2->pandas->datasets) (1.16.0)\n"
          ]
        }
      ],
      "source": [
        "!pip install datasets"
      ]
    },
    {
      "cell_type": "code",
      "execution_count": 2,
      "metadata": {
        "id": "UGPzROqJmpsS"
      },
      "outputs": [
        {
          "name": "stderr",
          "output_type": "stream",
          "text": [
            "/Library/Frameworks/Python.framework/Versions/3.11/lib/python3.11/site-packages/tqdm/auto.py:22: TqdmWarning: IProgress not found. Please update jupyter and ipywidgets. See https://ipywidgets.readthedocs.io/en/stable/user_install.html\n",
            "  from .autonotebook import tqdm as notebook_tqdm\n"
          ]
        }
      ],
      "source": [
        "import numpy as np\n",
        "import pandas as pd\n",
        "pd.options.mode.chained_assignment = None\n",
        "from datasets import load_dataset\n",
        "import json"
      ]
    },
    {
      "cell_type": "code",
      "execution_count": 3,
      "metadata": {
        "id": "7YHopmMCmtmK"
      },
      "outputs": [
        {
          "name": "stderr",
          "output_type": "stream",
          "text": [
            "Downloading readme: 100%|██████████| 10.2k/10.2k [00:00<00:00, 2.54MB/s]\n"
          ]
        },
        {
          "name": "stdout",
          "output_type": "stream",
          "text": [
            "Downloading and preparing dataset None/None to /Users/tsiameh/.cache/huggingface/datasets/OpenAssistant___parquet/OpenAssistant--oasst1-2960c57d7e52ab15/0.0.0/2a3b91fbd88a2c90d1dbbb32b460cf621d31bd5b05b934492fdef7d8d6f236ec...\n"
          ]
        },
        {
          "name": "stderr",
          "output_type": "stream",
          "text": [
            "Downloading data: 100%|██████████| 39.5M/39.5M [00:01<00:00, 32.9MB/s]\n",
            "Downloading data: 100%|██████████| 2.08M/2.08M [00:00<00:00, 26.4MB/s]\n",
            "Downloading data files: 100%|██████████| 2/2 [00:02<00:00,  1.43s/it]\n",
            "Extracting data files: 100%|██████████| 2/2 [00:00<00:00, 750.79it/s]\n",
            "                                                                                        \r"
          ]
        },
        {
          "name": "stdout",
          "output_type": "stream",
          "text": [
            "Dataset parquet downloaded and prepared to /Users/tsiameh/.cache/huggingface/datasets/OpenAssistant___parquet/OpenAssistant--oasst1-2960c57d7e52ab15/0.0.0/2a3b91fbd88a2c90d1dbbb32b460cf621d31bd5b05b934492fdef7d8d6f236ec. Subsequent calls will reuse this data.\n"
          ]
        },
        {
          "name": "stderr",
          "output_type": "stream",
          "text": [
            "100%|██████████| 2/2 [00:00<00:00, 108.09it/s]\n"
          ]
        }
      ],
      "source": [
        "ds = load_dataset(\"OpenAssistant/oasst1\")\n",
        "train = ds['train']\n",
        "val = ds['validation']\n",
        "\n",
        "train = pd.DataFrame(train)\n",
        "val = pd.DataFrame(val)\n",
        "\n",
        "def prep_data(df):\n",
        "    df_assistant = df[(df.role==\"assistant\") & (df[\"rank\"]==0.0)]\n",
        "    df_prompter = df[(df.role==\"prompter\")]\n",
        "    df_prompter = df_prompter.set_index(\"message_id\")\n",
        "    df_assistant[\"output\"] = df_assistant[\"text\"].values\n",
        "\n",
        "    inputs = []\n",
        "    for idx, row in df_assistant.iterrows():\n",
        "        input = df_prompter.loc[row.parent_id]\n",
        "        inputs.append(input.text)\n",
        "\n",
        "    df_assistant[\"instruction\"] = inputs\n",
        "\n",
        "    df_assistant = df_assistant[df_assistant.lang==\"en\"]\n",
        "\n",
        "    df_assistant = df_assistant[[\"instruction\", \"output\"]]\n",
        "\n",
        "    return df_assistant\n",
        "\n",
        "df_train = prep_data(train)\n",
        "df_val = prep_data(val)\n"
      ]
    },
    {
      "cell_type": "code",
      "execution_count": 5,
      "metadata": {
        "id": "uTyyLR9407OU"
      },
      "outputs": [],
      "source": [
        "# train\n",
        "df_train.reset_index(drop=True).to_csv(\"train.csv\", index=False)\n",
        "\n",
        "# valid\n",
        "df_val.reset_index(drop=True).to_csv(\"val.csv\", index=False)"
      ]
    },
    {
      "cell_type": "code",
      "execution_count": 6,
      "metadata": {
        "id": "znuwEWV80P2F"
      },
      "outputs": [],
      "source": [
        "# full data\n",
        "pd.concat([df_train, df_val]).reset_index(drop=True).to_csv(\"train_full.csv\", index=False)"
      ]
    },
    {
      "cell_type": "code",
      "execution_count": 8,
      "metadata": {
        "colab": {
          "base_uri": "https://localhost:8080/",
          "height": 206
        },
        "id": "mfIp-KSr0Pzx",
        "outputId": "f604b856-1339-4954-96a5-4b3ac9598765"
      },
      "outputs": [
        {
          "data": {
            "text/html": [
              "<div>\n",
              "<style scoped>\n",
              "    .dataframe tbody tr th:only-of-type {\n",
              "        vertical-align: middle;\n",
              "    }\n",
              "\n",
              "    .dataframe tbody tr th {\n",
              "        vertical-align: top;\n",
              "    }\n",
              "\n",
              "    .dataframe thead th {\n",
              "        text-align: right;\n",
              "    }\n",
              "</style>\n",
              "<table border=\"1\" class=\"dataframe\">\n",
              "  <thead>\n",
              "    <tr style=\"text-align: right;\">\n",
              "      <th></th>\n",
              "      <th>instruction</th>\n",
              "      <th>output</th>\n",
              "    </tr>\n",
              "  </thead>\n",
              "  <tbody>\n",
              "    <tr>\n",
              "      <th>0</th>\n",
              "      <td>Can you write a short introduction about the r...</td>\n",
              "      <td>\"Monopsony\" refers to a market structure where...</td>\n",
              "    </tr>\n",
              "    <tr>\n",
              "      <th>1</th>\n",
              "      <td>What can be done at a regulatory level to ensu...</td>\n",
              "      <td>Here are some potential regulatory options to ...</td>\n",
              "    </tr>\n",
              "    <tr>\n",
              "      <th>2</th>\n",
              "      <td>Can you explain contrastive learning in machin...</td>\n",
              "      <td>Sure! Let's say you want to build a model whic...</td>\n",
              "    </tr>\n",
              "    <tr>\n",
              "      <th>3</th>\n",
              "      <td>I didn't understand how pulling and pushing wo...</td>\n",
              "      <td>It has to do with a process called differentia...</td>\n",
              "    </tr>\n",
              "    <tr>\n",
              "      <th>4</th>\n",
              "      <td>I want to start doing astrophotography as a ho...</td>\n",
              "      <td>Getting started in astrophotography can seem d...</td>\n",
              "    </tr>\n",
              "  </tbody>\n",
              "</table>\n",
              "</div>"
            ],
            "text/plain": [
              "                                         instruction   \n",
              "0  Can you write a short introduction about the r...  \\\n",
              "1  What can be done at a regulatory level to ensu...   \n",
              "2  Can you explain contrastive learning in machin...   \n",
              "3  I didn't understand how pulling and pushing wo...   \n",
              "4  I want to start doing astrophotography as a ho...   \n",
              "\n",
              "                                              output  \n",
              "0  \"Monopsony\" refers to a market structure where...  \n",
              "1  Here are some potential regulatory options to ...  \n",
              "2  Sure! Let's say you want to build a model whic...  \n",
              "3  It has to do with a process called differentia...  \n",
              "4  Getting started in astrophotography can seem d...  "
            ]
          },
          "execution_count": 8,
          "metadata": {},
          "output_type": "execute_result"
        }
      ],
      "source": [
        "df = pd.read_csv(\"train_full.csv\")\n",
        "df.head()"
      ]
    },
    {
      "cell_type": "code",
      "execution_count": 10,
      "metadata": {
        "id": "x18sRPcb2MOC"
      },
      "outputs": [],
      "source": [
        "train = pd.read_csv(\"train.csv\")\n",
        "val = pd.read_csv(\"val.csv\")"
      ]
    },
    {
      "cell_type": "code",
      "execution_count": 11,
      "metadata": {
        "id": "3YHkfkLzmwrX"
      },
      "outputs": [],
      "source": [
        "def create_jsonl_from_dataframe(df, output_file):\n",
        "    # Initialize an empty list to store the formatted data\n",
        "    jsonl_data = []\n",
        "\n",
        "    # Iterate through the rows of the DataFrame\n",
        "    for index, row in df.iterrows():\n",
        "        # Format the data into a dictionary\n",
        "        data_dict = {\n",
        "            \"prompt\": f\"Human: {row['instruction']} Assistant:\",\n",
        "            \"chosen\": row['output']\n",
        "        }\n",
        "\n",
        "        # Append the dictionary to the list\n",
        "        jsonl_data.append(data_dict)\n",
        "\n",
        "    # Write the list of dictionaries to a .jsonl file\n",
        "    with open(output_file, 'w') as jsonl_file:\n",
        "        for item in jsonl_data:\n",
        "            jsonl_file.write(json.dumps(item) + '\\n')"
      ]
    },
    {
      "cell_type": "code",
      "execution_count": 15,
      "metadata": {
        "id": "Wk7bFhE30vZ8"
      },
      "outputs": [],
      "source": [
        "# Specify the output file path\n",
        "train_output_file = \"train.jsonl\"\n",
        "val_output_file = \"val.jsonl\"\n",
        "\n",
        "# Create .jsonl file from DataFrame\n",
        "create_jsonl_from_dataframe(train, train_output_file)\n",
        "\n",
        "create_jsonl_from_dataframe(val, val_output_file)"
      ]
    },
    {
      "cell_type": "code",
      "execution_count": null,
      "metadata": {
        "id": "EuNMKlgQ0vSg"
      },
      "outputs": [],
      "source": []
    },
    {
      "cell_type": "markdown",
      "metadata": {
        "id": "hU0D4qaE2prZ"
      },
      "source": [
        "### Test"
      ]
    },
    {
      "cell_type": "code",
      "execution_count": 14,
      "metadata": {
        "colab": {
          "base_uri": "https://localhost:8080/",
          "height": 112
        },
        "id": "07mN0kmhmwoP",
        "outputId": "1daaec1e-0efb-4633-c1a2-c03401576351"
      },
      "outputs": [
        {
          "data": {
            "text/html": [
              "<div>\n",
              "<style scoped>\n",
              "    .dataframe tbody tr th:only-of-type {\n",
              "        vertical-align: middle;\n",
              "    }\n",
              "\n",
              "    .dataframe tbody tr th {\n",
              "        vertical-align: top;\n",
              "    }\n",
              "\n",
              "    .dataframe thead th {\n",
              "        text-align: right;\n",
              "    }\n",
              "</style>\n",
              "<table border=\"1\" class=\"dataframe\">\n",
              "  <thead>\n",
              "    <tr style=\"text-align: right;\">\n",
              "      <th></th>\n",
              "      <th>human</th>\n",
              "      <th>assistant</th>\n",
              "    </tr>\n",
              "  </thead>\n",
              "  <tbody>\n",
              "    <tr>\n",
              "      <th>0</th>\n",
              "      <td>Who are you?</td>\n",
              "      <td>I'm Yi.</td>\n",
              "    </tr>\n",
              "    <tr>\n",
              "      <th>1</th>\n",
              "      <td>What is your purpose?</td>\n",
              "      <td>I'm here to assist you.</td>\n",
              "    </tr>\n",
              "  </tbody>\n",
              "</table>\n",
              "</div>"
            ],
            "text/plain": [
              "                   human                assistant\n",
              "0           Who are you?                  I'm Yi.\n",
              "1  What is your purpose?  I'm here to assist you."
            ]
          },
          "execution_count": 14,
          "metadata": {},
          "output_type": "execute_result"
        }
      ],
      "source": [
        "# Example DataFrame (replace this with your actual DataFrame)\n",
        "data = {'human': ['Who are you?', 'What is your purpose?'],\n",
        "        'assistant': [\"I'm Yi.\", \"I'm here to assist you.\"]}\n",
        "\n",
        "df = pd.DataFrame(data)\n",
        "\n",
        "df.head()"
      ]
    },
    {
      "cell_type": "code",
      "execution_count": null,
      "metadata": {
        "id": "Vc9Q0DfTmwlH"
      },
      "outputs": [],
      "source": []
    },
    {
      "cell_type": "code",
      "execution_count": null,
      "metadata": {
        "id": "7RJlgcS1mwhu"
      },
      "outputs": [],
      "source": []
    },
    {
      "cell_type": "code",
      "execution_count": null,
      "metadata": {
        "id": "GC9J2x5tmweE"
      },
      "outputs": [],
      "source": []
    }
  ],
  "metadata": {
    "colab": {
      "provenance": []
    },
    "kernelspec": {
      "display_name": "Python 3",
      "language": "python",
      "name": "python3"
    },
    "language_info": {
      "codemirror_mode": {
        "name": "ipython",
        "version": 3
      },
      "file_extension": ".py",
      "mimetype": "text/x-python",
      "name": "python",
      "nbconvert_exporter": "python",
      "pygments_lexer": "ipython3",
      "version": "3.11.1"
    }
  },
  "nbformat": 4,
  "nbformat_minor": 0
}
